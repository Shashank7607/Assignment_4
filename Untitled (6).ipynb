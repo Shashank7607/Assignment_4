{
 "cells": [
  {
   "cell_type": "code",
   "execution_count": null,
   "id": "74e07f98-8fbb-40d9-8df7-3d96aafebc12",
   "metadata": {},
   "outputs": [],
   "source": [
    "#ASSIGNMENT = 4"
   ]
  },
  {
   "cell_type": "code",
   "execution_count": 1,
   "id": "748d23c5-e6ef-4da3-92e2-692eeebb7dcd",
   "metadata": {},
   "outputs": [],
   "source": [
    "#answer = 1"
   ]
  },
  {
   "cell_type": "code",
   "execution_count": 3,
   "id": "cdf162d1-d3de-436c-8ac3-2ad4f15ec80b",
   "metadata": {},
   "outputs": [
    {
     "name": "stdout",
     "output_type": "stream",
     "text": [
      "[('Sachin Tendulkar', 34357), ('Ricky Ponting', 27483), ('Jack Kallis', 25534), ('Virat Kohli', 24936)]\n"
     ]
    }
   ],
   "source": [
    "lst = [('Sachin Tendulkar', 34357), ('Ricky Ponting', 27483), ('Jack Kallis', 25534), ('Virat Kohli', 24936)]\n",
    "\n",
    "# Sort the list of tuples based on integer value\n",
    "lst.sort(key=lambda x: x[1], reverse=True)\n",
    "\n",
    "# Print the sorted list of tuples\n",
    "print(lst)\n"
   ]
  },
  {
   "cell_type": "code",
   "execution_count": 4,
   "id": "c4d0235e-9bb2-4485-ac31-29dc6e33e241",
   "metadata": {},
   "outputs": [],
   "source": [
    "#ANSWER = 2"
   ]
  },
  {
   "cell_type": "code",
   "execution_count": 5,
   "id": "6fb56929-0be7-4836-922b-267c4e0474e9",
   "metadata": {},
   "outputs": [
    {
     "name": "stdout",
     "output_type": "stream",
     "text": [
      "[1, 4, 9, 16, 25, 36, 49, 64, 81, 100]\n"
     ]
    }
   ],
   "source": [
    "lst = [1, 2, 3, 4, 5, 6, 7, 8, 9, 10]\n",
    "\n",
    "# Use map function with a lambda to find the squares of all the numbers in the list\n",
    "squares = list(map(lambda x: x**2, lst))\n",
    "\n",
    "# Print the list of squares\n",
    "print(squares)\n"
   ]
  },
  {
   "cell_type": "code",
   "execution_count": 6,
   "id": "b8ea59be-499f-4729-9d19-8b79c46e7ea4",
   "metadata": {},
   "outputs": [],
   "source": [
    "#ANSWER = 3"
   ]
  },
  {
   "cell_type": "code",
   "execution_count": 7,
   "id": "4710036e-4917-46c8-ac10-93c33e2c009a",
   "metadata": {},
   "outputs": [
    {
     "name": "stdout",
     "output_type": "stream",
     "text": [
      "('1', '2', '3', '4', '5', '6', '7', '8', '9', '10')\n"
     ]
    }
   ],
   "source": [
    "lst = [1, 2, 3, 4, 5, 6, 7, 8, 9, 10]\n",
    "\n",
    "# Use map function with a lambda to convert the integers into strings\n",
    "str_tuple = tuple(map(lambda x: str(x), lst))\n",
    "\n",
    "# Print the tuple of strings\n",
    "print(str_tuple)\n"
   ]
  },
  {
   "cell_type": "code",
   "execution_count": 8,
   "id": "11c23100-1489-47c0-82e9-edcfc8fdd09a",
   "metadata": {},
   "outputs": [],
   "source": [
    "#ANSWER = 4"
   ]
  },
  {
   "cell_type": "code",
   "execution_count": 9,
   "id": "a057754c-238f-4b9e-9295-951f4c30d5a8",
   "metadata": {},
   "outputs": [
    {
     "name": "stdout",
     "output_type": "stream",
     "text": [
      "15511210043330985984000000\n"
     ]
    }
   ],
   "source": [
    "from functools import reduce\n",
    "\n",
    "# Define the function to compute the product of two numbers\n",
    "def multiply(x, y):\n",
    "    return x*y\n",
    "\n",
    "# Create a list of numbers from 1 to 25\n",
    "lst = list(range(1, 26))\n",
    "\n",
    "# Use the reduce function to compute the product of the list\n",
    "product = reduce(multiply, lst)\n",
    "\n",
    "# Print the product of the list\n",
    "print(product)\n"
   ]
  },
  {
   "cell_type": "code",
   "execution_count": 10,
   "id": "18c3e25f-6f33-40b3-a902-dba8ffc79c22",
   "metadata": {},
   "outputs": [],
   "source": [
    "#answer = 5"
   ]
  },
  {
   "cell_type": "code",
   "execution_count": null,
   "id": "c13f5273-c9c4-4a97-8778-0f89933a0720",
   "metadata": {},
   "outputs": [],
   "source": []
  }
 ],
 "metadata": {
  "kernelspec": {
   "display_name": "Python 3 (ipykernel)",
   "language": "python",
   "name": "python3"
  },
  "language_info": {
   "codemirror_mode": {
    "name": "ipython",
    "version": 3
   },
   "file_extension": ".py",
   "mimetype": "text/x-python",
   "name": "python",
   "nbconvert_exporter": "python",
   "pygments_lexer": "ipython3",
   "version": "3.10.8"
  }
 },
 "nbformat": 4,
 "nbformat_minor": 5
}
